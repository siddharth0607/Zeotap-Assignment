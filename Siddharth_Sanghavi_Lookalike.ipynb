{
 "cells": [
  {
   "cell_type": "code",
   "execution_count": 17,
   "metadata": {},
   "outputs": [],
   "source": [
    "import pandas as pd\n",
    "from sklearn.metrics.pairwise import cosine_similarity\n",
    "from sklearn.preprocessing import StandardScaler\n",
    "import import_ipynb\n",
    "from Siddharth_Sanghavi_EDA import merged_data"
   ]
  },
  {
   "cell_type": "code",
   "execution_count": 18,
   "metadata": {},
   "outputs": [],
   "source": [
    "customer_features = merged_data.groupby(\"CustomerID\").agg({\n",
    "    'TotalValue': 'sum',\n",
    "    'Quantity': 'sum',\n",
    "    'Price': 'mean'\n",
    "}).reset_index()"
   ]
  },
  {
   "cell_type": "code",
   "execution_count": 19,
   "metadata": {},
   "outputs": [],
   "source": [
    "# Normalize features\n",
    "scaler = StandardScaler()\n",
    "features_scaled = scaler.fit_transform(customer_features.iloc[:, 1:])"
   ]
  },
  {
   "cell_type": "code",
   "execution_count": 20,
   "metadata": {},
   "outputs": [],
   "source": [
    "# Compute similarity\n",
    "similarity_matrix = cosine_similarity(features_scaled)"
   ]
  },
  {
   "cell_type": "code",
   "execution_count": 21,
   "metadata": {},
   "outputs": [],
   "source": [
    "# Recommend top 3 similar customers\n",
    "recommendations = {}\n",
    "for idx, customer_id in enumerate(customer_features['CustomerID']):\n",
    "    similar_indices = similarity_matrix[idx].argsort()[-4:-1][::-1]\n",
    "    recommendations[customer_id] = [\n",
    "        (customer_features.iloc[i]['CustomerID'], similarity_matrix[idx, i])\n",
    "        for i in similar_indices\n",
    "    ]"
   ]
  },
  {
   "cell_type": "code",
   "execution_count": 22,
   "metadata": {},
   "outputs": [],
   "source": [
    "# Create and save Lookalike results\n",
    "lookalike_map = {\n",
    "    k: [(rec[0], rec[1]) for rec in v] for k, v in recommendations.items()\n",
    "}"
   ]
  },
  {
   "cell_type": "code",
   "execution_count": 23,
   "metadata": {},
   "outputs": [],
   "source": [
    "# Formatting the results as a DataFrame for the first 20 customers\n",
    "lookalike_final = pd.DataFrame(\n",
    "    [(k, str([(rec[0], rec[1]) for rec in v])) for k, v in lookalike_map.items() if k in customer_features['CustomerID'][:20].values],\n",
    "    columns=[\"CustomerID\", \"Lookalikes\"]\n",
    ")"
   ]
  },
  {
   "cell_type": "code",
   "execution_count": 24,
   "metadata": {},
   "outputs": [],
   "source": [
    "# Save the final lookalike recommendations to CSV\n",
    "lookalike_final.to_csv(\"Siddharth_Sanghavi_Lookalike.csv\", index=False)"
   ]
  }
 ],
 "metadata": {
  "kernelspec": {
   "display_name": "Python 3",
   "language": "python",
   "name": "python3"
  },
  "language_info": {
   "codemirror_mode": {
    "name": "ipython",
    "version": 3
   },
   "file_extension": ".py",
   "mimetype": "text/x-python",
   "name": "python",
   "nbconvert_exporter": "python",
   "pygments_lexer": "ipython3",
   "version": "3.10.11"
  }
 },
 "nbformat": 4,
 "nbformat_minor": 2
}
